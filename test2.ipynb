{
 "cells": [
  {
   "cell_type": "code",
   "execution_count": 3,
   "id": "7d94ab7a",
   "metadata": {},
   "outputs": [
    {
     "name": "stdout",
     "output_type": "stream",
     "text": [
      "53.26% of accuracy of HATE cases.\n",
      "67.87% of accuracy of NOT-HATE cases.\n",
      "59.93% of accuracy of all cases.\n",
      "\n",
      "\n"
     ]
    }
   ],
   "source": [
    "from tqdm import tqdm\n",
    "from transformers import AutoModelForSequenceClassification, AutoTokenizer, TextClassificationPipeline\n",
    "from datasets import load_dataset\n",
    "import pandas as pd\n",
    "import os\n",
    "from simpletransformers.classification import ClassificationModel, ClassificationArgs\n",
    "import re\n",
    "\n",
    "\n",
    "def predict_hate_label(model_path, file_name, dataset, device, BATCH_SIZE=32):\n",
    "\n",
    "    model = AutoModelForSequenceClassification.from_pretrained(model_path).to(device)\n",
    "    tokenizer = AutoTokenizer.from_pretrained(model_path)\n",
    "    # tokenizer = AutoTokenizer.from_pretrained(\"cardiffnlp/twitter-roberta-base-hate-latest\")\n",
    "\n",
    "    fout = open('../tmp/'+ file_name, \"w\")\n",
    "    pipe = TextClassificationPipeline(model=model, tokenizer=tokenizer, device=device)\n",
    "    BATCH_SIZE = BATCH_SIZE\n",
    "    num_batches = len(dataset) // BATCH_SIZE + (1 if len(dataset) % BATCH_SIZE != 0 else 0)\n",
    "\n",
    "    for batch_idx in tqdm(range(num_batches), desc=\"Processing batches\"):\n",
    "        start_idx = batch_idx * BATCH_SIZE\n",
    "        end_idx = start_idx + BATCH_SIZE\n",
    "\n",
    "        batched_texts = dataset['text'][start_idx:end_idx].tolist()\n",
    "        batched_labels = dataset['label'][start_idx:end_idx].tolist()\n",
    "\n",
    "        batched_predictions = pipe(batched_texts)\n",
    "\n",
    "        for i, (pred, actual_label) in enumerate(zip(batched_predictions, batched_labels)):\n",
    "            hate = pred[\"label\"]\n",
    "            toxic_score = pred[\"score\"] if hate == 'HATE' else 1 - pred[\"score\"]\n",
    "            fout.write(\n",
    "                str(start_idx + i) + \"\\t\" + str(hate) + \"\\t\" + str(actual_label) + \"\\t\" + str(toxic_score) + \"\\n\")\n",
    "\n",
    "def calculate_matching(df, target_label, comparison_value):\n",
    "    subset_df = df[df[2] == target_label]\n",
    "    if target_label == 'HATE':\n",
    "        matching = (subset_df[1] == comparison_value).sum()\n",
    "    elif target_label == 'NOT-HATE':\n",
    "        matching = (subset_df[1] != comparison_value).sum()\n",
    "    return matching, len(subset_df)\n",
    "\n",
    "\n",
    "df = pd.read_csv('/data/jzheng36/Fine-Tune-Llama2-/tmp/hatemoderate.csv_cardiffnlp-twitter-roberta-base-hate-latest_lr=5e-06_epoch=3_hatemoderate.csv', sep='\\t', header=None)\n",
    "matching_hate, total_hate = calculate_matching(df, 'HATE', 'HATE')\n",
    "matching_nothate, total_nothate = calculate_matching(df, 'NOT-HATE', 'HATE')\n",
    "\n",
    "\n",
    "print(f\"{(matching_hate / total_hate) * 100:.2f}% of accuracy of HATE cases.\")\n",
    "print(f\"{(matching_nothate / total_nothate) * 100:.2f}% of accuracy of NOT-HATE cases.\")\n",
    "print(f\"{(matching_hate + matching_nothate) / len(df) * 100:.2f}% of accuracy of all cases.\")\n",
    "print(\"\\n\")\n",
    "\n"
   ]
  },
  {
   "cell_type": "code",
   "execution_count": null,
   "id": "c9c893d8",
   "metadata": {},
   "outputs": [],
   "source": []
  }
 ],
 "metadata": {
  "kernelspec": {
   "display_name": "Python 3 (ipykernel)",
   "language": "python",
   "name": "python3"
  },
  "language_info": {
   "codemirror_mode": {
    "name": "ipython",
    "version": 3
   },
   "file_extension": ".py",
   "mimetype": "text/x-python",
   "name": "python",
   "nbconvert_exporter": "python",
   "pygments_lexer": "ipython3",
   "version": "3.9.0"
  }
 },
 "nbformat": 4,
 "nbformat_minor": 5
}
